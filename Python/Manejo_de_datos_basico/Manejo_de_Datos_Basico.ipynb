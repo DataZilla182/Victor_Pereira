{
 "cells": [
  {
   "cell_type": "markdown",
   "metadata": {},
   "source": []
  },
  {
   "cell_type": "markdown",
   "metadata": {},
   "source": [
    "# Cargar un archivo"
   ]
  },
  {
   "cell_type": "code",
   "execution_count": null,
   "metadata": {},
   "outputs": [
    {
     "name": "stdout",
     "output_type": "stream",
     "text": [
      "   Year Month      Customer    Product  Units_Sold  Price_per_Unit  \\\n",
      "0  2019   Jan  Customer 103  Product D          93       22.426305   \n",
      "1  2019   Jan   Customer 72  Product E          21       19.821771   \n",
      "2  2019   Jan  Customer 467  Product C          75       87.286734   \n",
      "3  2019   Jan  Customer 100  Product C          22       10.359100   \n",
      "4  2019   Jan  Customer 344  Product D          30       25.172216   \n",
      "\n",
      "       Revenue  Customer_Name  \n",
      "0  2085.646368   Joshua Moore  \n",
      "1   416.257188  Joseph Wilson  \n",
      "2  6546.505039  Hannah Harris  \n",
      "3   227.900200    Emily Davis  \n",
      "4   755.166465   Rachel Brown  \n"
     ]
    }
   ],
   "source": [
    "import pandas as pd\n",
    "\n",
    "df = pd.read_csv(\"ventas.csv\")\n",
    "print(df.head())  # Muestra las primeras 5 filas"
   ]
  },
  {
   "cell_type": "markdown",
   "metadata": {},
   "source": [
    "# Explorando los Datos "
   ]
  },
  {
   "cell_type": "code",
   "execution_count": 61,
   "metadata": {},
   "outputs": [
    {
     "name": "stdout",
     "output_type": "stream",
     "text": [
      "<class 'pandas.core.frame.DataFrame'>\n",
      "RangeIndex: 4980 entries, 0 to 4979\n",
      "Data columns (total 8 columns):\n",
      " #   Column          Non-Null Count  Dtype  \n",
      "---  ------          --------------  -----  \n",
      " 0   Year            4980 non-null   int64  \n",
      " 1   Month           4980 non-null   object \n",
      " 2   Customer        4980 non-null   object \n",
      " 3   Product         4980 non-null   object \n",
      " 4   Units_Sold      4980 non-null   int64  \n",
      " 5   Price_per_Unit  4980 non-null   float64\n",
      " 6   Revenue         4980 non-null   float64\n",
      " 7   Customer_Name   4980 non-null   object \n",
      "dtypes: float64(2), int64(2), object(4)\n",
      "memory usage: 311.4+ KB\n",
      "None\n",
      "              Year   Units_Sold  Price_per_Unit      Revenue\n",
      "count  4980.000000  4980.000000     4980.000000  4980.000000\n",
      "mean   2021.000000    49.490161       52.222311  2587.524606\n",
      "std       1.414356    28.583224       27.494928  2184.779178\n",
      "min    2019.000000     1.000000        5.005019    10.076287\n",
      "25%    2020.000000    24.000000       28.795445   799.331333\n",
      "50%    2021.000000    50.000000       52.269208  1969.560283\n",
      "75%    2022.000000    74.000000       75.887524  3889.162621\n",
      "max    2023.000000    99.000000       99.972226  9839.602715\n"
     ]
    }
   ],
   "source": [
    "print(df.info())     # Información general\n",
    "print(df.describe()) # Estadísticas básicas"
   ]
  },
  {
   "cell_type": "code",
   "execution_count": 62,
   "metadata": {},
   "outputs": [
    {
     "name": "stdout",
     "output_type": "stream",
     "text": [
      "Year              0\n",
      "Month             0\n",
      "Customer          0\n",
      "Product           0\n",
      "Units_Sold        0\n",
      "Price_per_Unit    0\n",
      "Revenue           0\n",
      "Customer_Name     0\n",
      "dtype: int64\n"
     ]
    }
   ],
   "source": [
    "print(df.isnull().sum())"
   ]
  },
  {
   "cell_type": "markdown",
   "metadata": {},
   "source": [
    "# Filtrar y Ordenar Datos"
   ]
  },
  {
   "cell_type": "code",
   "execution_count": 64,
   "metadata": {},
   "outputs": [
    {
     "name": "stdout",
     "output_type": "stream",
     "text": [
      "      Year Month      Customer    Product  Units_Sold  Price_per_Unit  \\\n",
      "1     2019   Jan   Customer 72  Product E          21       19.821771   \n",
      "3     2019   Jan  Customer 100  Product C          22       10.359100   \n",
      "5     2019   Jan  Customer 192  Product D          21       63.660743   \n",
      "10    2019   Jan  Customer 329  Product B           4       94.509167   \n",
      "11    2019   Jan   Customer 14  Product B           9        6.516794   \n",
      "...    ...   ...           ...        ...         ...             ...   \n",
      "4953  2023   Dec  Customer 322  Product B          28       24.872682   \n",
      "4958  2023   Dec  Customer 206  Product C          22       77.320786   \n",
      "4975  2023   Dec  Customer 110  Product E           8       54.706995   \n",
      "4977  2023   Dec  Customer 237  Product E          10       45.605952   \n",
      "4978  2023   Dec   Customer 44  Product C           8       92.443888   \n",
      "\n",
      "          Revenue     Customer_Name  \n",
      "1      416.257188     Joseph Wilson  \n",
      "3      227.900200       Emily Davis  \n",
      "5     1336.875612    Matthew Harris  \n",
      "10     378.036667    Rachel Jackson  \n",
      "11      58.651146        Jane White  \n",
      "...           ...               ...  \n",
      "4953   696.435106      Hannah Smith  \n",
      "4958  1701.057288      James Miller  \n",
      "4975   437.655961  Michael Williams  \n",
      "4977   456.059518     Megan Johnson  \n",
      "4978   739.551104  Jessica Williams  \n",
      "\n",
      "[1501 rows x 8 columns]\n"
     ]
    }
   ],
   "source": [
    "df_filtrado = df[df[\"Units_Sold\"] < 30]\n",
    "print(df_filtrado)"
   ]
  },
  {
   "cell_type": "code",
   "execution_count": 66,
   "metadata": {},
   "outputs": [
    {
     "name": "stdout",
     "output_type": "stream",
     "text": [
      "      Year Month      Customer    Product  Units_Sold  Price_per_Unit  \\\n",
      "2082  2021   Feb  Customer 398  Product B          99       99.389926   \n",
      "2072  2021   Jan  Customer 137  Product D          99       98.966905   \n",
      "4647  2023   Aug  Customer 161  Product E          98       97.883734   \n",
      "1945  2020   Dec  Customer 238  Product C          97       98.632070   \n",
      "1882  2020   Nov  Customer 471  Product D          98       97.101635   \n",
      "...    ...   ...           ...        ...         ...             ...   \n",
      "4302  2023   Apr  Customer 174  Product D           1       15.517040   \n",
      "2914  2021   Dec  Customer 374  Product A           3        5.128775   \n",
      "3960  2022   Dec  Customer 283  Product C           1       14.868010   \n",
      "3242  2022   Apr  Customer 271  Product B           1       14.727474   \n",
      "2599  2021   Aug  Customer 261  Product E           1       10.076287   \n",
      "\n",
      "          Revenue    Customer_Name  \n",
      "2082  9839.602715   Daniel Johnson  \n",
      "2072  9797.723626  Rachel Robinson  \n",
      "4647  9592.605896       John Brown  \n",
      "1945  9567.310763      John Taylor  \n",
      "1882  9515.960273     David Harris  \n",
      "...           ...              ...  \n",
      "4302    15.517040   Rachel Johnson  \n",
      "2914    15.386324  Rachel Robinson  \n",
      "3960    14.868010   Jessica Martin  \n",
      "3242    14.727474     Laura Harris  \n",
      "2599    10.076287    Emily Johnson  \n",
      "\n",
      "[4980 rows x 8 columns]\n"
     ]
    }
   ],
   "source": [
    "df_ordenado = df.sort_values(by=\"Revenue\", ascending=False)\n",
    "print(df_ordenado)"
   ]
  },
  {
   "cell_type": "markdown",
   "metadata": {},
   "source": [
    "# Creando un Gráfico en Python"
   ]
  },
  {
   "cell_type": "code",
   "execution_count": 69,
   "metadata": {},
   "outputs": [
    {
     "data": {
      "image/png": "[encoded data removed]",
      "text/plain": [
       "<Figure size 640x480 with 1 Axes>"
      ]
     },
     "metadata": {},
     "output_type": "display_data"
    }
   ],
   "source": [
    "import matplotlib.pyplot as plt\n",
    "import seaborn as sns\n",
    "\n",
    "sns.barplot(x=\"Product\", y=\"Units_Sold\", data=df)\n",
    "plt.xticks(rotation=90)\n",
    "plt.show()"
   ]
  }
 ],
 "metadata": {
  "kernelspec": {
   "display_name": "Python 3",
   "language": "python",
   "name": "python3"
  },
  "language_info": {
   "codemirror_mode": {
    "name": "ipython",
    "version": 3
   },
   "file_extension": ".py",
   "mimetype": "text/x-python",
   "name": "python",
   "nbconvert_exporter": "python",
   "pygments_lexer": "ipython3",
   "version": "3.11.0"
  }
 },
 "nbformat": 4,
 "nbformat_minor": 2
}
